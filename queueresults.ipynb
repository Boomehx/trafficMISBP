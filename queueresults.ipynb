{
 "cells": [
  {
   "cell_type": "code",
   "execution_count": null,
   "id": "fcbe12f2",
   "metadata": {},
   "outputs": [
    {
     "name": "stdout",
     "output_type": "stream",
     "text": [
      "Aggregated metrics saved to: ST05.csv\n"
     ]
    }
   ],
   "source": [
    "import os\n",
    "import xml.etree.ElementTree as ET\n",
    "import pandas as pd\n",
    "\n",
    "\n",
    "folder_path = r\"C:\\Users\\bobbi\\Documents\\YEAR 3\\sumo3\\results\\ST05\"  # Adjusted folder path\n",
    "\n",
    "output_csv = \"ST05.csv\"\n",
    "\n",
    "def process_file(file_path):\n",
    "\n",
    "    lane_data = {}\n",
    "    \n",
    "    tree = ET.parse(file_path)\n",
    "    root = tree.getroot()\n",
    "    \n",
    "    for data in root.findall('data'):\n",
    "        lanes = data.find('lanes')\n",
    "        if lanes is not None:\n",
    "            for lane in lanes.findall('lane'):\n",
    "                lane_id = lane.get('id')\n",
    "                \n",
    "                for key, value in lane.attrib.items():\n",
    "                    if key != 'id':\n",
    "                        if lane_id not in lane_data:\n",
    "                            lane_data[lane_id] = {}\n",
    "                        if key not in lane_data[lane_id]:\n",
    "                            lane_data[lane_id][key] = []\n",
    "                        lane_data[lane_id][key].append(float(value))\n",
    "    \n",
    "    avg_metrics = {}\n",
    "    for lane_id, metrics in lane_data.items():\n",
    "        for metric, values in metrics.items():\n",
    "            avg_key = f\"{lane_id}_{metric}_avg\"\n",
    "            avg_metrics[avg_key] = sum(values) / len(values) if values else 0\n",
    "    \n",
    "    return avg_metrics\n",
    "\n",
    "def aggregate_files(folder_path):\n",
    "\n",
    "    rows = []\n",
    "    all_columns = set()\n",
    "    \n",
    "    for file_name in os.listdir(folder_path):\n",
    "        if file_name.startswith('queue') and file_name.endswith('.xml'):\n",
    "            file_path = os.path.join(folder_path, file_name)\n",
    "            avg_metrics = process_file(file_path)\n",
    "            \n",
    "\n",
    "            row = {\"file_name\": file_name}\n",
    "            row.update(avg_metrics)\n",
    "            rows.append(row)\n",
    "            \n",
    "            all_columns.update(avg_metrics.keys())\n",
    "    \n",
    "\n",
    "    df = pd.DataFrame(rows)\n",
    "    df = df.set_index(\"file_name\")  \n",
    "    df = df.reindex(columns=sorted(all_columns)) \n",
    "    df = df.reset_index() \n",
    "    return df\n",
    "\n",
    "df = aggregate_files(folder_path)\n",
    "df.to_csv(output_csv, index=False)\n",
    "print(\"Aggregated metrics saved to:\", output_csv)\n"
   ]
  }
 ],
 "metadata": {
  "kernelspec": {
   "display_name": "base",
   "language": "python",
   "name": "python3"
  },
  "language_info": {
   "codemirror_mode": {
    "name": "ipython",
    "version": 3
   },
   "file_extension": ".py",
   "mimetype": "text/x-python",
   "name": "python",
   "nbconvert_exporter": "python",
   "pygments_lexer": "ipython3",
   "version": "3.12.7"
  }
 },
 "nbformat": 4,
 "nbformat_minor": 5
}
